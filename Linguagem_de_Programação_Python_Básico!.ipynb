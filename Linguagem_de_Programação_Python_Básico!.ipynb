{
  "nbformat": 4,
  "nbformat_minor": 0,
  "metadata": {
    "colab": {
      "provenance": [],
      "authorship_tag": "ABX9TyNdAx5Zy9iIqTemreCatKXd",
      "include_colab_link": true
    },
    "kernelspec": {
      "name": "python3",
      "display_name": "Python 3"
    },
    "language_info": {
      "name": "python"
    }
  },
  "cells": [
    {
      "cell_type": "markdown",
      "metadata": {
        "id": "view-in-github",
        "colab_type": "text"
      },
      "source": [
        "<a href=\"https://colab.research.google.com/github/ThamaraCrispim/fundacao-bradesco/blob/main/Linguagem_de_Programa%C3%A7%C3%A3o_Python_B%C3%A1sico!.ipynb\" target=\"_parent\"><img src=\"https://colab.research.google.com/assets/colab-badge.svg\" alt=\"Open In Colab\"/></a>"
      ]
    },
    {
      "cell_type": "markdown",
      "source": [
        "[ Linguagem de Programação Python - Básico!](https://lms.ev.org.br/mpls/Web/Learning/Timeline/Default.aspx)"
      ],
      "metadata": {
        "id": "S56Mb-4Jwoyj"
      }
    },
    {
      "cell_type": "markdown",
      "source": [
        "*   Módulo 1 - Introdução à\n",
        "Lógica de Programação\n",
        "*   módulo 2 - Introdução à\n",
        "Linguagem de\n",
        "*   módulo 3 - Estrutura básica\n",
        "da linguagem Python,\n",
        "declaração de variáveis\n",
        "e tipos de dados\n",
        "*   módulo 4 - Estruturas lógicas -\n",
        "Trabalhando com as\n",
        "estruturas de decisão e\n",
        "repetição\n",
        "*   módulo 5 - Funções - Práticas de\n",
        "programação com\n",
        "funções\n",
        "\n"
      ],
      "metadata": {
        "id": "IYfnKFpGWFeU"
      }
    },
    {
      "cell_type": "markdown",
      "source": [
        "**Módulo 1 - Introdução à Lógica de Programação**\n",
        "\n",
        "Algoritmos:\n",
        "Sequência finita de passos que levam à execução de uma tarefa.\n",
        "Podemos pensar em um algoritmo como uma receita, ou seja, apresenta uma sequência de instruções para um fim específico.\n",
        "Essas instruções devem ser descritas de maneira simples e objetiva.\n",
        "\n",
        "\n",
        "Programas de Computadores:\n",
        "Os programas de computadores são os algoritmos escritos em uma linguagem computacional, como Java, C#, Python, entre outras.\n",
        "Essas instruções são interpretadas e executadas por um computador.\n",
        "\n",
        "Todo algoritmo, por padrão, tem de apresentar algumas características básicas.\n",
        "\n",
        "\n",
        "1.Ponto inicial e Ponto final:Todo algoritmo deve ter um ponto inicial e chegar a\n",
        "um ponto final.\n",
        "\n",
        "2.Não ser ambíguo:A leitura de um algoritmo tem de ser clara, não pode ter dupla interpretação.\n",
        "\n",
        "3.Tratar dados externos:O algoritmo tem de receber dados externos e ser capaz de retornar resultados (saída de dados).\n",
        "\n",
        "4.Etapas alcançáveis:O algoritmo deve ter suas etapas alcançáveis em algum momento da programação.\n",
        "\n"
      ],
      "metadata": {
        "id": "IGmKXLlzXcGq"
      }
    },
    {
      "cell_type": "markdown",
      "source": [
        "Ao iniciar um algoritmo, é necessário dividir a situação-problema em três fases fundamentais:\n",
        "\n",
        "Entrada\n",
        "São os dados de entrada do algoritmo.\n",
        "\n",
        "Processamento\n",
        "São os procedimentos utilizados para chegar ao resultado final.\n",
        "\n",
        "Saída\n",
        "São os dados já processados, ou seja, o resultado da programação."
      ],
      "metadata": {
        "id": "ncXc7G-kZ8bF"
      }
    },
    {
      "cell_type": "markdown",
      "source": [
        "**variáveis**:\n",
        "Variável é um recurso utilizado na programação para armazenar e recuperar dados, ou seja, é um espaço que reservamos na memória atribuindo um nome e organizando os dados manipulados no programa.\n",
        "\n",
        "Por exemplo, podemos criar uma variável chamada “nome”, que armazenará o nome de uma pessoa. Fazendo uma analogia, seria como se você criasse uma gaveta em seu escritório com várias divisórias. A gaveta em si, seria a memória e cada divisão, uma variável para armazenar algum objeto.\n",
        "\n",
        "Chamamos o espaço alocado na memória de variável, porque o valor armazenado neste espaço pode ser alterado ao longo do tempo, ou seja, o valor ali alocado é “variável” ao longo da execução do programa.\n",
        "\n",
        "**Constante**\n",
        "\n",
        "Uma constante é responsável por armazenar um valor fixo em um espaço da memória. Esse valor não se altera durante a execução do programa.\n",
        "\n",
        "Um exemplo clássico é o valor de pi. Suponha que você precise trabalhar com o número pi, que é um valor fixo de, aproximadamente, 3,14. Você pode simplesmente declará-lo e utilizá-lo em todo o seu programa."
      ],
      "metadata": {
        "id": "6_9RwB5-cJeD"
      }
    },
    {
      "cell_type": "markdown",
      "source": [
        "**Tipos de dados**\n",
        "Ao criarmos uma variável em um programa temos de especificar o tipo de dado que será armazenado. Por exemplo, uma variável que vai armazenar o nome de uma pessoa será do tipo “caracter”, pois armazenará letras. Uma variável que armazenará a idade de uma pessoa, poderá receber somente “números inteiros”, portanto, deverá ser declarada como sendo do tipo “inteiro”.\n",
        "\n",
        "Já uma variável “valor”, como está representando um espaço para armazenar número com casas decimais, deverá ser declarada como sendo do tipo “real”.Os tipos de dados influenciam na forma como o programa irá trabalhar, no desempenho do programa e no seu consumo de memória.\n",
        "\n",
        "**Operadores**: Os operadores são meios de incrementar, decrementar, comparar e avaliar dados durante a execução do programa.\n",
        "\n",
        "Por padrão, temos quatro tipos de operadores:\n",
        "\n",
        "Operador de Atribuição\n",
        "Operadores Aritméticos\n",
        "Operadores Relacionais\n",
        "Operadores Lógicos"
      ],
      "metadata": {
        "id": "NffS3zqrcmyg"
      }
    },
    {
      "cell_type": "markdown",
      "source": [
        "Comandos de Entrada e Saída\n",
        "Entrada: Comandos para capturar dados do usuário.\n",
        "Saída: Comandos para exibir informações ao usuário.\n",
        "Esses comandos variam de acordo com a linguagem de programação utilizada.\n",
        "Operadores\n",
        "Operadores são símbolos ou palavras que permitem realizar ações sobre variáveis e expressões. Eles são divididos em quatro tipos principais:\n",
        "\n",
        "Operador de Atribuição\n",
        "\n",
        "Representado por uma seta (←) em algoritmos e pelo símbolo de igual (=) na maioria das linguagens de programação.\n",
        "Exemplo: x ← 2 * 2 ou x = 2 * 2.\n",
        "Operadores Aritméticos\n",
        "\n",
        "Permitem realizar operações matemáticas.\n",
        "Adição (+)\n",
        "Subtração (-)\n",
        "Multiplicação (*)\n",
        "Divisão (/)\n",
        "Exponenciação (**)\n",
        "Hierarquia das Operações:\n",
        "Parênteses ( )\n",
        "Exponenciação **\n",
        "Multiplicação e Divisão * e /\n",
        "Adição e Subtração + e -\n",
        "Operadores Relacionais\n",
        "\n",
        "Usados para comparar valores, retornando um valor lógico (verdadeiro ou falso).\n",
        "Igual a (=)\n",
        "Diferente de (<>)\n",
        "Maior que (>)\n",
        "Menor que (<)\n",
        "Maior ou igual a (>=)\n",
        "Menor ou igual a (<=)\n",
        "Operadores Lógicos\n",
        "\n",
        "Combinam expressões lógicas, resultando em valores verdadeiro ou falso.\n",
        "E (and): Verdadeiro se ambas as expressões forem verdadeiras.\n",
        "Ou (or): Verdadeiro se pelo menos uma das expressões for verdadeira.\n",
        "Não (not): Inverte o valor lógico da expressão.\n",
        "Tabela Verdade\n",
        "A tabela verdade é utilizada para determinar o resultado de operações lógicas:\n",
        "\n",
        "E (and): Só é verdadeiro se ambos os valores forem verdadeiros.\n",
        "Ou (or): É verdadeiro se pelo menos um dos valores for verdadeiro.\n",
        "Não (not): Inverte o valor lógico de uma expressão (verdadeiro vira falso e vice-versa).\n",
        "\n"
      ],
      "metadata": {
        "id": "CrdB2X1pdh4_"
      }
    },
    {
      "cell_type": "markdown",
      "source": [
        "**módulo 2 - Introdução à\n",
        "Linguagem de\n",
        "Programação Python**"
      ],
      "metadata": {
        "id": "iluJCO17qelU"
      }
    },
    {
      "cell_type": "markdown",
      "source": [
        "Python é uma linguagem de programação que tem crescido rapidamente devido à sua simplicidade e compatibilidade com a maioria dos sistemas operacionais. É uma linguagem interpretada, orientada a objetos, de alto nível e com semântica dinâmica.\n",
        "\n",
        "Principais Características:\n",
        "*   Linguagem de alto nível: Foca na facilidade de leitura e escrita do código.\n",
        "Orientada a objetos: Suporta o paradigma de programação orientado a objetos.\n",
        "*   Tipagem dinâmica e forte: Tipos de dados são verificados em tempo de execução, e as variáveis têm tipos bem definidos.\n",
        "*    Fácil aprendizagem: Possui uma sintaxe simples e direta, ideal para iniciantes.\n",
        "*    Comunidade ativa: Grande número de desenvolvedores e recursos disponíveis.\n",
        "Muitas bibliotecas/recursos: Possui uma vasta gama de bibliotecas para diferentes aplicações.\n",
        "*    Linguagem interpretada: O código é executado diretamente por um interpretador.\n",
        "\n",
        "Python foi criada em 1991 por Guido Van Rossum como uma sucessora da linguagem ABC, que tinha limitações para não programadores. Atualmente, a linguagem é gerenciada pela Python Software Foundation e possui uma licença de código aberto compatível com a GNU GPL a partir da versão 2.1.1.\n",
        "\n",
        "Python é amplamente utilizada em diversas áreas, como desenvolvimento web, ciência de dados, machine learning e simulações. Grandes empresas como Google, YouTube, Disney e IBM utilizam Python em seus projetos.\n",
        "\n",
        "Curiosidade:\n",
        "Python é a terceira linguagem de programação mais utilizada no mundo, de acordo com o índice TIOBE, ficando atrás apenas de Java"
      ],
      "metadata": {
        "id": "DjfJGFM-sFbq"
      }
    },
    {
      "cell_type": "markdown",
      "source": [
        " **Módulo 3 - Estrutura básica\n",
        "da linguagem Python,\n",
        "declaração de variáveis\n",
        "e tipos de dados**\n",
        "\n"
      ],
      "metadata": {
        "id": "j9EH3WEXstaK"
      }
    },
    {
      "cell_type": "markdown",
      "source": [
        "Sintaxe da função print()\n",
        "A sintaxe da função print() requer que se utilize os parênteses com o texto que será exibido.\n",
        "\n",
        "Esse texto deve ser escrito, também, entre aspas, podendo ser aspas simples ‘ ou dupla ‘’."
      ],
      "metadata": {
        "id": "tmfUThcJtBeq"
      }
    },
    {
      "cell_type": "code",
      "source": [
        "print('Hello word')"
      ],
      "metadata": {
        "colab": {
          "base_uri": "https://localhost:8080/"
        },
        "id": "NLcdpYp8tGcZ",
        "outputId": "d826c3c9-fb6e-4d0b-99bf-67b1693257f4"
      },
      "execution_count": null,
      "outputs": [
        {
          "output_type": "stream",
          "name": "stdout",
          "text": [
            "Hello word\n"
          ]
        }
      ]
    },
    {
      "cell_type": "markdown",
      "source": [
        "erros de digitação referente à caixa alta (letras maiúsculas) e à caixa baixa (letras minúsculas):\n",
        "\n",
        "Print (“Hello World\")\n",
        "\n",
        "PRINT (‘Hello World’)\n",
        "\n",
        "\n",
        "Erros de falta de parênteses ou de aspas:\n",
        "\n",
        "print (Hello World\n",
        "\n",
        "print (Hello World”)"
      ],
      "metadata": {
        "id": "uvCbxq-stb7s"
      }
    },
    {
      "cell_type": "markdown",
      "source": [
        "**Variáveis**\n",
        "Ao iniciarmos uma variável e atribuirmos um valor à ela, a maioria das linguagens de programação carrega valores que são alocados em memória e quando esses valores são alterados, a memória também é alterada.\n",
        "\n",
        "Na linguagem de programação Python, as variáveis armazenam endereços de memória e não valores.\n",
        "\n",
        "Por isso, é correto afirmar que o con"
      ],
      "metadata": {
        "id": "LICfQUsetown"
      }
    },
    {
      "cell_type": "markdown",
      "source": [
        "**Declaração de variáveis**\n",
        "Na linguagem Python não é necessário declarar as variáveis no início do código. Isso pode ser feito a qualquer momento, durante a codificação.\n",
        "\n",
        "Sobre o tipo da variável, não é necessário defini-lo em sua declaração. A linguagem interpreta o tipo de dado que está sendo armazenado."
      ],
      "metadata": {
        "id": "io7--FfQttq2"
      }
    },
    {
      "cell_type": "markdown",
      "source": [
        "**Tipos de dados**\n",
        "*  As variáveis do tipo (int) são aquelas que armazenam números inteiros 1, 2, 3, 4 e assim por diante.\n",
        "*  Representa números reais e que possuem sinal de\n",
        "expoente (e ou E)\n",
        "*  Representam valores booleanos que são Verdadeiro (True) e Falso (False)\n",
        "*  Representa qualquer conjunto de caracteres, desde que estejam entre aspas"
      ],
      "metadata": {
        "id": "xuRoRY1xt-3s"
      }
    },
    {
      "cell_type": "markdown",
      "source": [
        "**módulo 4 - Estruturas lógicas -\n",
        "Trabalhando com as\n",
        "estruturas de decisão e\n",
        "repetição**\n"
      ],
      "metadata": {
        "id": "Vk_KYXzyuYgl"
      }
    },
    {
      "cell_type": "markdown",
      "source": [
        "Operadores Aritméticos:\n",
        "\n",
        "Usados para realizar cálculos matemáticos em Python.\n",
        "*  Principais operadores:\n",
        "*  Adição (+)\n",
        "*  Subtração (-)\n",
        "*  Multiplicação (*)\n",
        "*  Divisão real (/)\n",
        "*  Divisão inteira (//)\n",
        "*  Exponenciação (**)\n",
        "*  Resto da divisão (%)\n",
        "*  Operadores Relacionais:\n",
        "\n",
        "Utilizados para comparar valores, resultando em valores booleanos (True ou False).\n",
        "Principais operadores:\n",
        "*  Igual a (==)\n",
        "*  Diferente de (!=)\n",
        "*  Maior que (>)\n",
        "*  Menor que (<)\n",
        "*  Maior ou igual a (>=)\n",
        "*  Menor ou igual a (<=)\n",
        "Operadores Lógicos:\n",
        "\n",
        "Combinam resultados de expressões para determinar um valor booleano.\n",
        "Principais operadores:\n",
        "*  E (and)\n",
        "*  OU (or)\n",
        "*  NÃO (not)\n"
      ],
      "metadata": {
        "id": "tmOIqVRDusBz"
      }
    },
    {
      "cell_type": "markdown",
      "source": [
        "**módulo 5 - Funções - Práticas de\n",
        "programação com\n",
        "funções**"
      ],
      "metadata": {
        "id": "lN58hfD3usya"
      }
    },
    {
      "cell_type": "markdown",
      "source": [
        "As funções em Python são blocos de código reutilizáveis que permitem organizar e otimizar a programação, evitando a repetição de código. Aqui estão os principais conceitos apresentados:\n",
        "\n",
        "1. Estrutura Básica de uma Função\n",
        "Uma função é definida com a palavra-chave def, seguida pelo nome da função, parâmetros (opcionais) e um bloco de código que constitui o corpo da função.\n"
      ],
      "metadata": {
        "id": "33Ji2iHQu5UQ"
      }
    },
    {
      "cell_type": "code",
      "source": [
        "def nome_da_função(parâmetros):\n",
        "    # Bloco de código\n",
        "    return valor_do_retorno\n",
        "#Exemplo Simples de Função\n",
        "#Um exemplo básico seria uma função que imprime \"Hello World\":\n",
        "def mensagem1():\n",
        "    print(\"Hello World\")\n",
        "\n",
        "def mensagem2():\n",
        "    return \"Hello World\"\n",
        "\n",
        "mensagem1()\n",
        "texto = mensagem2()\n",
        "print(texto)\n",
        "# Função para Cálculo de Média\n",
        "def lernotas():\n",
        "    n = float(input('Digite uma nota para o aluno(a): '))\n",
        "    return n\n",
        "\n",
        "def resultado(n1, n2):\n",
        "    media = (n1 + n2) / 2\n",
        "    print(\"Nota 1:\", n1)\n",
        "    print(\"Nota 2:\", n2)\n",
        "    print(\"Média:\", media, \"Resultado:\", end=\" \")\n",
        "    if media >= 7:\n",
        "        print(\"Aprovado\")\n",
        "    else:\n",
        "        print(\"Reprovado\")\n",
        "\n",
        "a = lernotas()\n",
        "b = lernotas()\n",
        "resultado(a, b)\n"
      ],
      "metadata": {
        "id": "dHc6hEidwwdD"
      },
      "execution_count": null,
      "outputs": []
    }
  ]
}
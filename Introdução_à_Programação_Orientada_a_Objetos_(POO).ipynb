{
  "nbformat": 4,
  "nbformat_minor": 0,
  "metadata": {
    "colab": {
      "provenance": [],
      "authorship_tag": "ABX9TyPIa8LX3DmyiDyhyNBqHXP0",
      "include_colab_link": true
    },
    "kernelspec": {
      "name": "python3",
      "display_name": "Python 3"
    },
    "language_info": {
      "name": "python"
    }
  },
  "cells": [
    {
      "cell_type": "markdown",
      "metadata": {
        "id": "view-in-github",
        "colab_type": "text"
      },
      "source": [
        "<a href=\"https://colab.research.google.com/github/ThamaraCrispim/fundacao-bradesco/blob/main/Introdu%C3%A7%C3%A3o_%C3%A0_Programa%C3%A7%C3%A3o_Orientada_a_Objetos_(POO).ipynb\" target=\"_parent\"><img src=\"https://colab.research.google.com/assets/colab-badge.svg\" alt=\"Open In Colab\"/></a>"
      ]
    },
    {
      "cell_type": "code",
      "execution_count": null,
      "metadata": {
        "id": "ltjkuCi7rS0_"
      },
      "outputs": [],
      "source": []
    },
    {
      "cell_type": "markdown",
      "source": [
        "\n",
        "\n",
        "*    Módulo 1 -\n",
        "Programação estruturada\n",
        "versus orientada a objetos\n",
        "\n",
        "*   Módulo 2 - Os quatro pilares da programação orientada a objetos\n",
        "\n",
        "*   Módulo 3 - Linguagens orientadas a objeto\n",
        "\n"
      ],
      "metadata": {
        "id": "xuBtZ-NCxoPQ"
      }
    },
    {
      "cell_type": "markdown",
      "source": [
        "**Módulo 1 Programação estruturada versus orientada a objetos**\n",
        "Programação estruturada\n",
        "# Introdução à Programação Estruturada e Orientada a Objetos\n",
        "\n",
        "Neste primeiro módulo, você aprenderá sobre programação estruturada e programação orientada a objetos, entendendo como cada uma funciona e quais são suas principais diferenças.\n",
        "\n",
        "### Programação Estruturada\n",
        "A programação estruturada segue uma lógica sequencial de máquina, onde os comandos são executados em uma ordem pré-determinada. Essa abordagem é caracterizada por três estruturas principais:\n",
        "- **Sequência**: Execução linear dos comandos.\n",
        "- **Decisão**: Testes condicionais (ex: `if-else`).\n",
        "- **Iteração**: Repetição de comandos até que uma condição seja atendida (ex: `for`, `while`).\n",
        "\n",
        "Um exemplo clássico é a preparação de uma pizza, onde cada passo (preparar a massa, adicionar recheio, assar) é seguido sequencialmente até a conclusão.\n",
        "\n",
        "### Programação Orientada a Objetos (POO)\n",
        "A POO organiza o código em torno de objetos e classes, refletindo o raciocínio humano. Ao contrário da programação estruturada, que segue processos, a POO foca em representar elementos do mundo real. Os principais conceitos incluem:\n",
        "- **Objeto**: Entidades com características próprias.\n",
        "- **Classe**: Modelo que define atributos e métodos dos objetos.\n",
        "- **Atributos**: Características dos objetos.\n",
        "- **Métodos**: Ações que os objetos podem realizar.\n",
        "\n",
        "A POO surgiu para facilitar a criação de software, permitindo um código mais intuitivo e reutilizável.\n",
        "\n",
        "### Comparação\n",
        "A programação estruturada tende a ter um desempenho superior, pois é procedural e sequencial, maximizando o uso do hardware. Entretanto, a POO, com sua capacidade de reutilização de código e proximidade com o mundo real, tornou-se a escolha preferida para o desenvolvimento de aplicações modernas.\n",
        "\n",
        "Com a crescente capacidade de processamento dos computadores, a POO se popularizou mundialmente, tornando-se uma das abordagens mais utilizadas na programação atual.\n",
        "\n"
      ],
      "metadata": {
        "id": "aXsepBKOxs8m"
      }
    },
    {
      "cell_type": "markdown",
      "source": [
        "**Módulo 2 Os quatro pilares da programação orientada a objetos**\n",
        "# Pilares da Programação Orientada a Objetos (POO)\n",
        "\n",
        "Neste módulo, você aprofundará seus conhecimentos em programação orientada a objetos (POO), estudando seus quatro pilares fundamentais: abstração, encapsulamento, herança e polimorfismo.\n",
        "\n",
        "### Abstração\n",
        "A abstração na POO simplifica a complexidade do mundo real, focando apenas nos aspectos relevantes para o problema a ser resolvido. Ela cria classes abstratas que representam conceitos gerais, desconsiderando detalhes desnecessários.\n",
        "\n",
        "**Exemplo:** Ao desenvolver uma classe \"Ser Humano\", podemos abstrair atributos como cor dos olhos e altura, concentrando-nos apenas em CPF, nome e endereço para um sistema de clientes.\n",
        "\n",
        "### Encapsulamento\n",
        "Encapsulamento envolve esconder os detalhes internos de um objeto, permitindo que interações com o objeto ocorram através de uma interface. Isso protege o código de modificações externas e facilita a manutenção.\n",
        "\n",
        "**Exemplo:** Uma máquina de café é um objeto encapsulado; o usuário não precisa entender seu funcionamento interno, apenas interage com os botões (interface) para obter o café.\n",
        "\n",
        "### Herança\n",
        "A herança permite que uma nova classe seja criada com base em uma classe existente, herdando seus atributos e métodos. Isso facilita a reutilização de código e a extensão de funcionalidades.\n",
        "\n",
        "**Exemplo:** Uma classe \"Animal\" pode ser herdada por subclasses como \"Herbívoro\", \"Carnívoro\" e \"Onívoro\", que por sua vez podem ser herdadas por classes específicas como \"Coelho\" ou \"Leão\".\n",
        "\n",
        "### Polimorfismo\n",
        "O polimorfismo permite que diferentes classes utilizem o mesmo método, mas com implementações distintas. Isso flexibiliza o código e permite que objetos de diferentes classes sejam tratados de forma uniforme.\n",
        "\n",
        "**Exemplo:** A superclasse \"Animal\" pode ter um método \"mover\", que será implementado de maneira diferente por subclasses como \"Peixe\" (nadar), \"Anfíbio\" (pular) e \"Pássaro\" (voar).\n",
        "\n",
        "### Conclusão\n",
        "Com a compreensão desses pilares, você estará mais preparado para aplicar a programação orientada a objetos de maneira eficaz e eficiente, aproveitando ao máximo as vantagens dessa abordagem.\n"
      ],
      "metadata": {
        "id": "476vqvD5zDhb"
      }
    },
    {
      "cell_type": "markdown",
      "source": [
        "**Módulo 3 Linguagens orientadas a objeto**\n",
        "# Programação Orientada a Objetos (POO) e Principais Linguagens: Java, C++ e C#\n",
        "\n",
        "Este notebook explora o paradigma da Programação Orientada a Objetos (POO) e sua implementação em três linguagens de programação amplamente utilizadas: **Java**, **C++** e **C#**.\n",
        "\n",
        "## Java\n",
        "- **Histórico:** Desenvolvida nos anos 90 pela Sun Microsystems, atualmente mantida pela Oracle.\n",
        "- **Características:** Multiplataforma, usada em IoT, desenvolvimento de aplicativos Android, jogos, e páginas web.\n",
        "- **Vantagens:** Portabilidade, suporte a multiprocessamento, alta utilização, e gratuidade.\n",
        "- **Desvantagens:** Estrutura complexa e vulnerabilidade à reutilização de código sem permissão.\n",
        "\n",
        "## C++\n",
        "- **Histórico:** Criada nos anos 80 por Bjarne Stroustrup, no Bell Laboratories, como uma extensão da linguagem C.\n",
        "- **Características:** Alta performance, permite programação tanto orientada a objetos quanto estruturada.\n",
        "- **Vantagens:** Desempenho superior e flexibilidade.\n",
        "- **Desvantagens:** Gerenciamento manual de memória pode ser complexo e inseguro.\n",
        "\n",
        "## C#\n",
        "- **Histórico:** Desenvolvida pela Microsoft em 2000, como parte da plataforma .NET, com influências de C++, Java e Object Pascal.\n",
        "- **Características:** Sintaxe semelhante a Java, otimizada para o ambiente Windows, com foco em aplicações web, desktop e nuvem.\n",
        "- **Vantagens:** Compatibilidade com Windows, facilidade de aprendizado, suporte ao desenvolvimento em nuvem, e segurança.\n",
        "- **Desvantagens:** Suporte limitado a outras plataformas, problemas com gerenciamento de memória, e necessidade constante de compilação, o que pode aumentar o risco de erros.\n",
        "\n",
        "## Conclusão\n",
        "A POO tornou-se o paradigma de programação mais adotado mundialmente, oferecendo flexibilidade e eficiência em diversos tipos de projetos. Este notebook aborda as características principais das linguagens Java, C++ e C#, bem como suas vantagens e desvantagens, fornecendo uma visão geral de como cada uma pode ser utilizada de acordo com diferentes necessidades.\n"
      ],
      "metadata": {
        "id": "IY6o4h6UztNu"
      }
    }
  ]
}